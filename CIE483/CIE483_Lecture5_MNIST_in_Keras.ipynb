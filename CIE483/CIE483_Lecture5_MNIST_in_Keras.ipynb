{
  "cells": [
    {
      "cell_type": "markdown",
      "metadata": {
        "id": "Nl7OAjwbELtd"
      },
      "source": [
        "# Introduction to Deep Learning with Keras and TensorFlow\n",
        "\n",
        "**Ramy Rashad (KFUPM)**\n",
        "\n",
        "**Resources: [Daniel Moser](https://colab.research.google.com/github/AviatorMoser/keras-mnist-tutorial/blob/master/MNIST%20in%20Keras.ipynb#scrollTo=Hs3ufCQvObnI), [Xavier Snelgrove](https://github.com/wxs/keras-mnist-tutorial), [Yash Katariya](https://github.com/yashk2810/MNIST-Keras), [MIT Introduction to Deep Learning](https://github.com/aamini/introtodeeplearning/tree/master/lab2)**\n",
        "\n",
        "*To* help you understand the fundamentals of deep learning, this demo will walk through the basic steps of building two toy models for classifying handwritten numbers with high accuracy. The first model will be a basic fully-connected neural network, and the second model will be a deeper network that introduces the concepts of convolution and pooling.\n",
        "\n",
        "\n"
      ]
    },
    {
      "cell_type": "markdown",
      "metadata": {
        "id": "s58Nqx8_ELtf"
      },
      "source": [
        "## The Task for the AI agent\n",
        "\n",
        "Our goal is to construct and train an artificial neural network on thousands of images of handwritten digits so that it may successfully identify others when presented. The data that will be incorporated is the MNIST database which contains 60,000 images for training and 10,000 test images.\n",
        "\n",
        "<img src=\"https://github.com/romeoVh/KFUPM_Teaching/blob/main/img/mnist.png?raw=1\" width=400>\n",
        "\n",
        "We will use the Keras Python API with TensorFlow as the backend.\n",
        "\n",
        "<img src=\"https://github.com/romeoVh/KFUPM_Teaching/blob/main/img/tensorflow_keras_logos.jpg?raw=1\" width=400>\n",
        "\n",
        "TensorFlow is an open-source machine learning framework developed by Google. It's widely used for building and deploying machine learning models, particularly neural networks. TensorFlow provides a flexible platform that supports various types of machine learning, including deep learning, and is commonly used in research and production environments.\n",
        "\n",
        "Keras is an open-source deep learning framework that provides a user-friendly API for building and training neural networks. It is written in Python and is designed to enable fast experimentation with deep neural networks. Keras allows users to create models with minimal code, making it accessible for both beginners and experts in machine learning.\n",
        "\n",
        "Google Colab comes pre-installed with TensorFlow and Keras, so you don’t need to install them manually.\n",
        "\n",
        "\n"
      ]
    },
    {
      "cell_type": "markdown",
      "metadata": {
        "id": "NVBLoo74ELtg"
      },
      "source": [
        "## Prerequisite Python Modules\n",
        "\n",
        "First, some software needs to be loaded into the Python environment."
      ]
    },
    {
      "cell_type": "code",
      "execution_count": null,
      "metadata": {
        "id": "5_cmKEONELth",
        "colab": {
          "base_uri": "https://localhost:8080/"
        },
        "outputId": "633e57f7-2694-4fc0-9293-8463166603d8"
      },
      "outputs": [
        {
          "output_type": "stream",
          "name": "stdout",
          "text": [
            "TensorFlow version: 2.17.0\n"
          ]
        }
      ],
      "source": [
        "%matplotlib inline\n",
        "import numpy as np                   # advanced math library\n",
        "import matplotlib.pyplot as plt      # MATLAB like plotting routines\n",
        "import random                        # for generating random numbers\n",
        "import time\n",
        "\n",
        "import tensorflow as tf\n",
        "print(\"TensorFlow version:\", tf.__version__)\n",
        "#import keras\n",
        "\n",
        "from keras.datasets import mnist     # MNIST dataset is included in Keras\n",
        "from keras.models import Sequential  # Model type to be used\n",
        "from keras.optimizers import SGD,Adam\n",
        "\n",
        "from keras.layers import Input, Dense, Dropout, Activation # Types of layers to be used in our model\n",
        "from keras.utils import to_categorical # A useful function that will be used for pre-processing the labels"
      ]
    },
    {
      "cell_type": "markdown",
      "metadata": {
        "id": "vTTAAHaVELti"
      },
      "source": [
        "## Loading Training Data\n",
        "\n",
        "The MNIST dataset is conveniently bundled within Keras, and we can easily analyze some of its features in Python."
      ]
    },
    {
      "cell_type": "code",
      "execution_count": null,
      "metadata": {
        "id": "H1_NULs8ELti",
        "colab": {
          "base_uri": "https://localhost:8080/"
        },
        "outputId": "e1ec1078-7260-4290-feb6-2a4c7bec45f2"
      },
      "outputs": [
        {
          "output_type": "stream",
          "name": "stdout",
          "text": [
            "Downloading data from https://storage.googleapis.com/tensorflow/tf-keras-datasets/mnist.npz\n",
            "\u001b[1m11490434/11490434\u001b[0m \u001b[32m━━━━━━━━━━━━━━━━━━━━\u001b[0m\u001b[37m\u001b[0m \u001b[1m0s\u001b[0m 0us/step\n",
            "X_train shape (60000, 28, 28)\n",
            "X_test shape (10000, 28, 28)\n",
            "y_train shape (60000,)\n",
            "y_test shape (10000,)\n"
          ]
        }
      ],
      "source": [
        "# The MNIST data is split between 60,000 28 x 28 pixel training images and 10,000 28 x 28 pixel images\n",
        "(X_train, y_train), (X_test, y_test) = mnist.load_data()\n",
        "\n",
        "print(\"X_train shape\", X_train.shape)\n",
        "print(\"X_test shape\", X_test.shape)\n",
        "\n",
        "print(\"y_train shape\", y_train.shape)\n",
        "print(\"y_test shape\", y_test.shape)"
      ]
    },
    {
      "cell_type": "markdown",
      "metadata": {
        "id": "mvhjDXXjELtj"
      },
      "source": [
        "Let's visualize what some of these images and their corresponding training labels look like.\n",
        "Using matplotlib, we will plot a random sample of 9 images from the training set directly into this Jupyter Notebook."
      ]
    },
    {
      "cell_type": "code",
      "execution_count": null,
      "metadata": {
        "id": "bxoOv-NgELtk",
        "colab": {
          "base_uri": "https://localhost:8080/",
          "height": 148
        },
        "outputId": "61d08b46-1a13-4809-c8b5-f177b5d72118"
      },
      "outputs": [
        {
          "output_type": "display_data",
          "data": {
            "text/plain": [
              "<Figure size 1000x1000 with 9 Axes>"
            ],
            "image/png": "[encoded data removed]"
          },
          "metadata": {}
        }
      ],
      "source": [
        "plt.rcParams['figure.figsize'] = (10,10) # Make the figures a bit bigger\n",
        "\n",
        "for i in range(9):\n",
        "    plt.subplot(1,9,i+1)\n",
        "    num = random.randint(0, len(X_train))\n",
        "    plt.imshow(X_train[num], cmap='gray', interpolation='none')\n",
        "    plt.title(\"Class {}\".format(y_train[num]))\n",
        "\n",
        "plt.tight_layout()"
      ]
    },
    {
      "cell_type": "markdown",
      "metadata": {
        "id": "-z_pEuR6ELtk"
      },
      "source": [
        "Each image in the dataset consists of a 28 x 28 array(matrix) of pixels.\n",
        "Each pixel is an 8-bit integer from 0-255. 0 is full black, while 255 is full white. This what we call a single-channel pixel. It's called monochrome.\n",
        "To see that, let's examine a single digit a little closer!\n",
        "We will print out the array representing the last digit that was displayed above (in the lower right corner)."
      ]
    },
    {
      "cell_type": "code",
      "execution_count": null,
      "metadata": {
        "id": "0jLbJ-XvELtk",
        "colab": {
          "base_uri": "https://localhost:8080/"
        },
        "outputId": "eb3cf98a-e51e-49c5-e7f2-38e7945d9a91"
      },
      "outputs": [
        {
          "output_type": "stream",
          "name": "stdout",
          "text": [
            "0  0  0  0  0    0    0    0    0    0    0    0    0    0    0    0    0    0    0    0    0    0    0    0    0  0  0  0  \n",
            "0  0  0  0  0    0    0    0    0    0    0    0    0    0    0    0    0    0    0    0    0    0    0    0    0  0  0  0  \n",
            "0  0  0  0  0    0    0    0    0    0    0    0    0    0    0    0    0    0    0    0    0    0    0    0    0  0  0  0  \n",
            "0  0  0  0  0    0    0    0    0    0    0    0    0    0    0    0    0    0    0    0    0    0    0    0    0  0  0  0  \n",
            "0  0  0  0  0    0    0    0    0    0    0    0    0    0    0    0    0    0    0    0    0    0    0    0    0  0  0  0  \n",
            "0  0  0  0  0    0    0    0    0    0    0    0    0    0    0    0  116  241  254  219   32    0    0    0    0  0  0  0  \n",
            "0  0  0  0  0    0    0    0    0    0    0    0    0    0   57  171  253  253  253  253  244  149   40    0    0  0  0  0  \n",
            "0  0  0  0  0    0    0    0    0    0    0    0    0    0  134  254  253  253  253  253  253  253  223   40    0  0  0  0  \n",
            "0  0  0  0  0    0    0    0    0    0    0    0    9   81  172  254  253  253  253  253  253  253  253  219    0  0  0  0  \n",
            "0  0  0  0  0    0    0    0    0    0    0   47  157  253  253  254  253  193  143   53  201  253  253  240    0  0  0  0  \n",
            "0  0  0  0  0    0    0    0    0    0   12  121  253  253  253  254  230   21    0    0   49  195  253  250  117  0  0  0  \n",
            "0  0  0  0  0    0    0    0    0   68  191  253  253  251  213  214   53    0    0    0   29  216  253  253  161  0  0  0  \n",
            "0  0  0  0  0    0    0    0  123  234  253  253  239   99    0    0    0    0    0    0    0  174  253  253  120  0  0  0  \n",
            "0  0  0  0  0    0    0   13  160  253  253  244  226   45    0    0    0    0    0    0    3  178  253  252  114  0  0  0  \n",
            "0  0  0  0  0    0   57  241  253  253  253   80    0    0    0    0    0    0    0    0   54  253  253  240    0  0  0  0  \n",
            "0  0  0  0  0    0  242  254  254  223  106    0    0    0    0    0    0    0    0    0  188  255  255  107    0  0  0  0  \n",
            "0  0  0  0  0    0  241  253  253  250   63    0    0    0    0    0    0    0    0   29  215  253  253  177    0  0  0  0  \n",
            "0  0  0  0  0  229  252  253  253   73    7    0    0    0    0    0    0    0   30  207  253  253  179   11    0  0  0  0  \n",
            "0  0  0  0  0  212  253  253  185    9    0    0    0    0    0    0    0   80  227  253  253  219   15    0    0  0  0  0  \n",
            "0  0  0  0  0  156  253  253  137    0    0    0    0    0    0   32  124  220  253  235  186   86    0    0    0  0  0  0  \n",
            "0  0  0  0  0  254  253  253   68    0    0    0    6   54  125  220  253  233  157   49    0    0    0    0    0  0  0  0  \n",
            "0  0  0  0  0  162  253  253  228  174  174  174  182  253  253  255  253  188   21    0    0    0    0    0    0  0  0  0  \n",
            "0  0  0  0  0  109  252  253  253  253  253  253  253  253  239  228   99   10    0    0    0    0    0    0    0  0  0  0  \n",
            "0  0  0  0  0    0  157  245  253  253  253  253  245  162   50    0    0    0    0    0    0    0    0    0    0  0  0  0  \n",
            "0  0  0  0  0    0    0   45  120  120  120  120   44    0    0    0    0    0    0    0    0    0    0    0    0  0  0  0  \n",
            "0  0  0  0  0    0    0    0    0    0    0    0    0    0    0    0    0    0    0    0    0    0    0    0    0  0  0  0  \n",
            "0  0  0  0  0    0    0    0    0    0    0    0    0    0    0    0    0    0    0    0    0    0    0    0    0  0  0  0  \n",
            "0  0  0  0  0    0    0    0    0    0    0    0    0    0    0    0    0    0    0    0    0    0    0    0    0  0  0  0  \n"
          ]
        }
      ],
      "source": [
        "# just a little function for pretty printing a matrix\n",
        "def matprint(mat, fmt=\"g\"):\n",
        "    col_maxes = [max([len((\"{:\"+fmt+\"}\").format(x)) for x in col]) for col in mat.T]\n",
        "    for x in mat:\n",
        "        for i, y in enumerate(x):\n",
        "            print((\"{:\"+str(col_maxes[i])+fmt+\"}\").format(y), end=\"  \")\n",
        "        print(\"\")\n",
        "\n",
        "# now print!\n",
        "matprint(X_train[num])"
      ]
    },
    {
      "cell_type": "markdown",
      "metadata": {
        "id": "sxeZA6HlELtl"
      },
      "source": [
        "## Formatting the input data layer\n",
        "\n",
        "Instead of a 28 x 28 matrix, we want to [link text](https://)build our network to accept a 784-length vector.\n",
        "\n",
        "Each image needs to be then reshaped (or flattened) into a vector. We'll also normalize the inputs to be in the range [0-1] rather than [0-255]. Normalizing inputs is generally recommended, so that any additional dimensions (for other network architectures) are of the same scale. In other words, main goal of normalization is to equalize the relative importance of the dimensions of the input."
      ]
    },
    {
      "cell_type": "markdown",
      "metadata": {
        "id": "g5_9E1qNELtl"
      },
      "source": [
        "<img src='https://github.com/romeoVh/KFUPM_Teaching/blob/main/img/flatten.png?raw=1' width=\"600\">"
      ]
    },
    {
      "cell_type": "code",
      "execution_count": null,
      "metadata": {
        "id": "Mniq3xCmELtl",
        "colab": {
          "base_uri": "https://localhost:8080/"
        },
        "outputId": "a6be23ce-6d7f-4b6f-d71c-be4e67df9abd"
      },
      "outputs": [
        {
          "output_type": "stream",
          "name": "stdout",
          "text": [
            "Training matrix shape (60000, 784)\n",
            "Testing matrix shape (10000, 784)\n"
          ]
        }
      ],
      "source": [
        "X_train = X_train.reshape(60000, 784) # reshape 60,000 28 x 28 matrices into 60,000 784-length vectors.\n",
        "X_test = X_test.reshape(10000, 784)   # reshape 10,000 28 x 28 matrices into 10,000 784-length vectors.\n",
        "\n",
        "X_train = X_train.astype('float32')   # change integers to 32-bit floating point numbers\n",
        "X_test = X_test.astype('float32')\n",
        "\n",
        "X_train /= 255                        # normalize each value for each pixel for the entire vector for each input\n",
        "X_test /= 255\n",
        "\n",
        "print(\"Training matrix shape\", X_train.shape)\n",
        "print(\"Testing matrix shape\", X_test.shape)"
      ]
    },
    {
      "cell_type": "markdown",
      "metadata": {
        "id": "1ynDg3yAELtl"
      },
      "source": [
        "## Formatting the labels\n",
        "\n",
        "We then modify our label classes (unique digits) to be in the one-hot format, i.e.\n",
        "\n",
        "```\n",
        "0 -> [1, 0, 0, 0, 0, 0, 0, 0, 0]\n",
        "1 -> [0, 1, 0, 0, 0, 0, 0, 0, 0]\n",
        "2 -> [0, 0, 1, 0, 0, 0, 0, 0, 0]\n",
        "etc.\n",
        "```\n",
        "\n",
        "If the final output of our network is very close to one of these classes, then it is most likely that class. For example, if the final output is:\n",
        "\n",
        "```\n",
        "[0, 0.94, 0, 0, 0, 0, 0.06, 0, 0]\n",
        "```\n",
        "then the NN model has a 94% certainty that the image is that of the digit `1` and a 6% certainty that it is a `6`."
      ]
    },
    {
      "cell_type": "code",
      "execution_count": null,
      "metadata": {
        "collapsed": true,
        "id": "e1h9YivmELtm",
        "colab": {
          "base_uri": "https://localhost:8080/"
        },
        "outputId": "73a03dce-047a-4666-fe6a-f3224e2c7909"
      },
      "outputs": [
        {
          "output_type": "stream",
          "name": "stdout",
          "text": [
            "Training labels shape (60000, 10)\n",
            "Testing labels shape (10000, 10)\n"
          ]
        }
      ],
      "source": [
        "nb_classes = 10 # number of unique digits\n",
        "\n",
        "Y_train = to_categorical(y_train, nb_classes)\n",
        "Y_test = to_categorical(y_test, nb_classes)\n",
        "print(\"Training labels shape\", Y_train.shape)\n",
        "print(\"Testing labels shape\", Y_test.shape)"
      ]
    },
    {
      "cell_type": "markdown",
      "metadata": {
        "id": "YvRUhsABELtm"
      },
      "source": [
        "# First Try - Building a 2-layer fully connected network (FCN)\n",
        "\n",
        "We'll first build a simple neural network consisting of two fully connected layers and apply this to the digit classification task.\n",
        "(Note that the input layer is usually not counted as a trainable layer).\n",
        "Our network will ultimately output a probability distribution over the 10 digit classes (0-9). This first architecture we will be building is depicted below:\n",
        "\n",
        "<img src='https://github.com/romeoVh/KFUPM_Teaching/blob/main/img/mnist_2layers_arch.png?raw=1' >"
      ]
    },
    {
      "cell_type": "markdown",
      "source": [
        "To define the architecture of this first fully connected neural network, we'll once again use the Keras API and define the model using the [`Sequential`](https://www.tensorflow.org/api_docs/python/tf/keras/models/Sequential) class."
      ],
      "metadata": {
        "id": "3eKTBj-sQFzS"
      }
    },
    {
      "cell_type": "code",
      "execution_count": null,
      "metadata": {
        "collapsed": true,
        "id": "CeowOXMNELtm"
      },
      "outputs": [],
      "source": [
        "model = Sequential() # The Sequential model is a linear stack of layers"
      ]
    },
    {
      "cell_type": "markdown",
      "metadata": {
        "id": "8ZgLB2hmELtm"
      },
      "source": [
        "### The hidden layer\n",
        "The first hidden layer is a set of N nodes (artificial neurons).\n",
        "Each node will receive an element from each input vector and apply some weight and bias to it.\n",
        "We will use in this layer the ReLU activation.\n",
        "An \"activation\" is a non-linear function applied to the output of the layer above.\n",
        "It checks the new value of the node, and decides whether that artifical neuron has fired.\n",
        "The Rectified Linear Unit (ReLU) converts all negative inputs to nodes in the next layer to be zero.\n",
        "Those inputs are then not considered to be fired.\n",
        "Positive values of a node are unchanged.\n"
      ]
    },
    {
      "cell_type": "markdown",
      "metadata": {
        "id": "rXr-HlpPELtn"
      },
      "source": [
        "$$f_{R}(x) = max (0,x)$$"
      ]
    },
    {
      "cell_type": "code",
      "execution_count": null,
      "metadata": {
        "collapsed": true,
        "id": "CuwaD-2vELtm"
      },
      "outputs": [],
      "source": [
        "N = 128\n",
        "model.add(Input(shape=(784,)))\n",
        "model.add(Dense(N))\n",
        "model.add(Activation('relu'))"
      ]
    },
    {
      "cell_type": "markdown",
      "metadata": {
        "id": "u6EodhRSELtn"
      },
      "source": [
        "### The Output Layer\n",
        "The final layer of 10 neurons in fully-connected to the previous N-node layer.\n",
        "The final layer of a FCN should be equal to the number of desired classes (10 in this case).\n"
      ]
    },
    {
      "cell_type": "code",
      "execution_count": null,
      "metadata": {
        "collapsed": true,
        "id": "6fSldkcDELtn"
      },
      "outputs": [],
      "source": [
        "model.add(Dense(10))"
      ]
    },
    {
      "cell_type": "markdown",
      "source": [
        "Now we use the softmax activation function to represent a probability distribution over K different possible outcomes.\n",
        "Its values are all non-negative and sum to 1.\n",
        "Each node of the output layer contains a score that indicates the probability that the current image belongs to one of the handwritten digit classes.\n"
      ],
      "metadata": {
        "id": "Z7636Q5CXnhO"
      }
    },
    {
      "cell_type": "code",
      "execution_count": null,
      "metadata": {
        "collapsed": true,
        "id": "5iCwighiELtn"
      },
      "outputs": [],
      "source": [
        "model.add(Activation('softmax'))"
      ]
    },
    {
      "cell_type": "code",
      "execution_count": null,
      "metadata": {
        "id": "_L3zT0WTELto",
        "colab": {
          "base_uri": "https://localhost:8080/",
          "height": 267
        },
        "outputId": "f4ab00d6-0bad-4f2e-dc3a-4cf59d0f7527"
      },
      "outputs": [
        {
          "output_type": "display_data",
          "data": {
            "text/plain": [
              "\u001b[1mModel: \"sequential\"\u001b[0m\n"
            ],
            "text/html": [
              "<pre style=\"white-space:pre;overflow-x:auto;line-height:normal;font-family:Menlo,'DejaVu Sans Mono',consolas,'Courier New',monospace\"><span style=\"font-weight: bold\">Model: \"sequential\"</span>\n",
              "</pre>\n"
            ]
          },
          "metadata": {}
        },
        {
          "output_type": "display_data",
          "data": {
            "text/plain": [
              "┏━━━━━━━━━━━━━━━━━━━━━━━━━━━━━━━━━━━━━━┳━━━━━━━━━━━━━━━━━━━━━━━━━━━━━┳━━━━━━━━━━━━━━━━━┓\n",
              "┃\u001b[1m \u001b[0m\u001b[1mLayer (type)                        \u001b[0m\u001b[1m \u001b[0m┃\u001b[1m \u001b[0m\u001b[1mOutput Shape               \u001b[0m\u001b[1m \u001b[0m┃\u001b[1m \u001b[0m\u001b[1m        Param #\u001b[0m\u001b[1m \u001b[0m┃\n",
              "┡━━━━━━━━━━━━━━━━━━━━━━━━━━━━━━━━━━━━━━╇━━━━━━━━━━━━━━━━━━━━━━━━━━━━━╇━━━━━━━━━━━━━━━━━┩\n",
              "│ dense (\u001b[38;5;33mDense\u001b[0m)                        │ (\u001b[38;5;45mNone\u001b[0m, \u001b[38;5;34m128\u001b[0m)                 │         \u001b[38;5;34m100,480\u001b[0m │\n",
              "├──────────────────────────────────────┼─────────────────────────────┼─────────────────┤\n",
              "│ activation (\u001b[38;5;33mActivation\u001b[0m)              │ (\u001b[38;5;45mNone\u001b[0m, \u001b[38;5;34m128\u001b[0m)                 │               \u001b[38;5;34m0\u001b[0m │\n",
              "├──────────────────────────────────────┼─────────────────────────────┼─────────────────┤\n",
              "│ dense_1 (\u001b[38;5;33mDense\u001b[0m)                      │ (\u001b[38;5;45mNone\u001b[0m, \u001b[38;5;34m10\u001b[0m)                  │           \u001b[38;5;34m1,290\u001b[0m │\n",
              "├──────────────────────────────────────┼─────────────────────────────┼─────────────────┤\n",
              "│ activation_1 (\u001b[38;5;33mActivation\u001b[0m)            │ (\u001b[38;5;45mNone\u001b[0m, \u001b[38;5;34m10\u001b[0m)                  │               \u001b[38;5;34m0\u001b[0m │\n",
              "└──────────────────────────────────────┴─────────────────────────────┴─────────────────┘\n"
            ],
            "text/html": [
              "<pre style=\"white-space:pre;overflow-x:auto;line-height:normal;font-family:Menlo,'DejaVu Sans Mono',consolas,'Courier New',monospace\">┏━━━━━━━━━━━━━━━━━━━━━━━━━━━━━━━━━━━━━━┳━━━━━━━━━━━━━━━━━━━━━━━━━━━━━┳━━━━━━━━━━━━━━━━━┓\n",
              "┃<span style=\"font-weight: bold\"> Layer (type)                         </span>┃<span style=\"font-weight: bold\"> Output Shape                </span>┃<span style=\"font-weight: bold\">         Param # </span>┃\n",
              "┡━━━━━━━━━━━━━━━━━━━━━━━━━━━━━━━━━━━━━━╇━━━━━━━━━━━━━━━━━━━━━━━━━━━━━╇━━━━━━━━━━━━━━━━━┩\n",
              "│ dense (<span style=\"color: #0087ff; text-decoration-color: #0087ff\">Dense</span>)                        │ (<span style=\"color: #00d7ff; text-decoration-color: #00d7ff\">None</span>, <span style=\"color: #00af00; text-decoration-color: #00af00\">128</span>)                 │         <span style=\"color: #00af00; text-decoration-color: #00af00\">100,480</span> │\n",
              "├──────────────────────────────────────┼─────────────────────────────┼─────────────────┤\n",
              "│ activation (<span style=\"color: #0087ff; text-decoration-color: #0087ff\">Activation</span>)              │ (<span style=\"color: #00d7ff; text-decoration-color: #00d7ff\">None</span>, <span style=\"color: #00af00; text-decoration-color: #00af00\">128</span>)                 │               <span style=\"color: #00af00; text-decoration-color: #00af00\">0</span> │\n",
              "├──────────────────────────────────────┼─────────────────────────────┼─────────────────┤\n",
              "│ dense_1 (<span style=\"color: #0087ff; text-decoration-color: #0087ff\">Dense</span>)                      │ (<span style=\"color: #00d7ff; text-decoration-color: #00d7ff\">None</span>, <span style=\"color: #00af00; text-decoration-color: #00af00\">10</span>)                  │           <span style=\"color: #00af00; text-decoration-color: #00af00\">1,290</span> │\n",
              "├──────────────────────────────────────┼─────────────────────────────┼─────────────────┤\n",
              "│ activation_1 (<span style=\"color: #0087ff; text-decoration-color: #0087ff\">Activation</span>)            │ (<span style=\"color: #00d7ff; text-decoration-color: #00d7ff\">None</span>, <span style=\"color: #00af00; text-decoration-color: #00af00\">10</span>)                  │               <span style=\"color: #00af00; text-decoration-color: #00af00\">0</span> │\n",
              "└──────────────────────────────────────┴─────────────────────────────┴─────────────────┘\n",
              "</pre>\n"
            ]
          },
          "metadata": {}
        },
        {
          "output_type": "display_data",
          "data": {
            "text/plain": [
              "\u001b[1m Total params: \u001b[0m\u001b[38;5;34m101,770\u001b[0m (397.54 KB)\n"
            ],
            "text/html": [
              "<pre style=\"white-space:pre;overflow-x:auto;line-height:normal;font-family:Menlo,'DejaVu Sans Mono',consolas,'Courier New',monospace\"><span style=\"font-weight: bold\"> Total params: </span><span style=\"color: #00af00; text-decoration-color: #00af00\">101,770</span> (397.54 KB)\n",
              "</pre>\n"
            ]
          },
          "metadata": {}
        },
        {
          "output_type": "display_data",
          "data": {
            "text/plain": [
              "\u001b[1m Trainable params: \u001b[0m\u001b[38;5;34m101,770\u001b[0m (397.54 KB)\n"
            ],
            "text/html": [
              "<pre style=\"white-space:pre;overflow-x:auto;line-height:normal;font-family:Menlo,'DejaVu Sans Mono',consolas,'Courier New',monospace\"><span style=\"font-weight: bold\"> Trainable params: </span><span style=\"color: #00af00; text-decoration-color: #00af00\">101,770</span> (397.54 KB)\n",
              "</pre>\n"
            ]
          },
          "metadata": {}
        },
        {
          "output_type": "display_data",
          "data": {
            "text/plain": [
              "\u001b[1m Non-trainable params: \u001b[0m\u001b[38;5;34m0\u001b[0m (0.00 B)\n"
            ],
            "text/html": [
              "<pre style=\"white-space:pre;overflow-x:auto;line-height:normal;font-family:Menlo,'DejaVu Sans Mono',consolas,'Courier New',monospace\"><span style=\"font-weight: bold\"> Non-trainable params: </span><span style=\"color: #00af00; text-decoration-color: #00af00\">0</span> (0.00 B)\n",
              "</pre>\n"
            ]
          },
          "metadata": {}
        }
      ],
      "source": [
        "# Summarize the built model\n",
        "\n",
        "model.summary()"
      ]
    },
    {
      "cell_type": "markdown",
      "source": [
        "Question: Do you know how to calculate the number of parameters of the network ?\n",
        "\n",
        "Answer: .....\n"
      ],
      "metadata": {
        "id": "yDB3HR6hZIeu"
      }
    },
    {
      "cell_type": "markdown",
      "metadata": {
        "id": "jqGhJWYLELto"
      },
      "source": [
        "## Compiling the model\n",
        "\n",
        "Keras is built on top of Theano and TensorFlow. Both packages allow you to define a *computation graph* in Python, which then compiles and runs efficiently on the CPU or GPU without the overhead of the Python interpreter.\n",
        "\n",
        "Before training the model using Keras, we need to define a few more settings. These are added during the model's [`compile`](https://www.tensorflow.org/api_docs/python/tf/keras/models/Sequential#compile) step:\n",
        "\n",
        "* *Loss function* — This defines how we measure how accurate the model is during training. During training we want to minimize this function, which will \"steer\" the model in the right direction.\n",
        "* *Optimizer* — This defines how the model is updated based on the data it sees and its loss function.\n",
        "* *Metrics* — Here we can define metrics used to monitor the training and testing steps. In this example, we'll look at the *accuracy*, the fraction of the images that are correctly classified.\n",
        "\n",
        "Our predictions are probability distributions across the ten different digits (e.g. \"we're 80% confident this image is a 3, 10% sure it's an 8, 5% it's a 2, etc.\"), and the target is a probability distribution with 100% for the correct category, and 0 for everything else. The cross-entropy is a measure of how different your predicted distribution is from the target distribution. [More detail at Wikipedia](https://en.wikipedia.org/wiki/Cross_entropy)\n",
        "\n",
        "The optimizer helps determine how quickly the model learns through **gradient descent**. The rate at which descends a gradient is called the **learning rate**.\n",
        "\n",
        "You'll want to experiment with both the choice of optimizer and learning rate and evaluate how these affect the accuracy of the trained model.\n",
        "\n",
        "We'll start out by using the Stochastic Gradient Descent (SGD) optimizer initialized with the default learning rate of 0.01.\n",
        "\n"
      ]
    },
    {
      "cell_type": "code",
      "execution_count": null,
      "metadata": {
        "collapsed": true,
        "id": "ccwQSkFQELtp"
      },
      "outputs": [],
      "source": [
        "# Let's use the SGD optimizer for learning\n",
        "#our_optimizer = SGD() # default learning rate is 0.01\n",
        "#our_optimizer = SGD(learning_rate=0.1)\n",
        "our_optimizer = Adam()\n",
        "\n",
        "\n",
        "model.compile(loss='categorical_crossentropy', optimizer=our_optimizer, metrics=['accuracy'])"
      ]
    },
    {
      "cell_type": "markdown",
      "metadata": {
        "id": "lyQ9MUluELtp"
      },
      "source": [
        "## Train the model!\n",
        "\n",
        "We're now ready to train our model, which will involve feeding the training data (`train_images` and `train_labels`) into the model, and then asking it to learn the associations between images and labels.\n",
        "\n",
        "This is where the magic happends, and usually the part where you go to sleep and come back another day.\n",
        "\n",
        "We need to define the batch size and the number of epochs, or iterations over the MNIST dataset, to use during training.\n",
        "\n"
      ]
    },
    {
      "cell_type": "markdown",
      "metadata": {
        "id": "RNT5WTE3ELts"
      },
      "source": [
        "The batch size determines over how much data per step is used to compute the loss function, gradients, and back propagation. Large batch sizes allow the network to complete it's training faster; however, there are other factors beyond training speed to consider.\n",
        "\n",
        "Too large of a batch size smoothes the local minima of the loss function, causing the optimizer to settle in one because it thinks it found the global minimum.\n",
        "\n",
        "Too small of a batch size creates a very noisy loss function, and the optimizer may never find the global minimum.\n",
        "\n",
        "So a good batch size may take some trial and error to find!\n",
        "\n",
        "Then, we start the Neural Network training by calling the [`fit`](https://www.tensorflow.org/api_docs/python/tf/keras/models/Sequential#fit) method on an instance of the `Model` class. We will use this to train our fully connected model."
      ]
    },
    {
      "cell_type": "code",
      "execution_count": null,
      "metadata": {
        "id": "hOPWbMa-ELtt",
        "colab": {
          "base_uri": "https://localhost:8080/"
        },
        "outputId": "5d41dccc-6958-43a0-d954-f194ed0454e6"
      },
      "outputs": [
        {
          "output_type": "stream",
          "name": "stdout",
          "text": [
            "Epoch 1/5\n",
            "\u001b[1m469/469\u001b[0m \u001b[32m━━━━━━━━━━━━━━━━━━━━\u001b[0m\u001b[37m\u001b[0m \u001b[1m8s\u001b[0m 11ms/step - accuracy: 0.8281 - loss: 0.6174\n",
            "Epoch 2/5\n",
            "\u001b[1m469/469\u001b[0m \u001b[32m━━━━━━━━━━━━━━━━━━━━\u001b[0m\u001b[37m\u001b[0m \u001b[1m6s\u001b[0m 4ms/step - accuracy: 0.9507 - loss: 0.1741\n",
            "Epoch 3/5\n",
            "\u001b[1m469/469\u001b[0m \u001b[32m━━━━━━━━━━━━━━━━━━━━\u001b[0m\u001b[37m\u001b[0m \u001b[1m2s\u001b[0m 4ms/step - accuracy: 0.9648 - loss: 0.1182\n",
            "Epoch 4/5\n",
            "\u001b[1m469/469\u001b[0m \u001b[32m━━━━━━━━━━━━━━━━━━━━\u001b[0m\u001b[37m\u001b[0m \u001b[1m2s\u001b[0m 4ms/step - accuracy: 0.9741 - loss: 0.0923\n",
            "Epoch 5/5\n",
            "\u001b[1m469/469\u001b[0m \u001b[32m━━━━━━━━━━━━━━━━━━━━\u001b[0m\u001b[37m\u001b[0m \u001b[1m3s\u001b[0m 5ms/step - accuracy: 0.9800 - loss: 0.0699\n",
            "Elapsed time: 25.21 seconds\n"
          ]
        }
      ],
      "source": [
        "# Define the batch size and the number of epochs to use during training\n",
        "BATCH_SIZE = 128\n",
        "EPOCHS = 5\n",
        "\n",
        "# Record the start time\n",
        "start_time = time.time()\n",
        "\n",
        "# Start the Training\n",
        "history = model.fit(X_train, Y_train, batch_size=BATCH_SIZE, epochs=EPOCHS, verbose=1)\n",
        "\n",
        "# Record the end time\n",
        "end_time = time.time()\n",
        "# Calculate the elapsed time\n",
        "elapsed_time = end_time - start_time\n",
        "\n",
        "# Print the elapsed time\n",
        "print(f\"Elapsed time: {elapsed_time:.2f} seconds\")\n"
      ]
    },
    {
      "cell_type": "markdown",
      "metadata": {
        "id": "rHiyZEOCELtt"
      },
      "source": [
        "The two numbers printed above represent the overall accuracy of the network and the value of the loss function on the training data.\n",
        "Note that the `history` variable is important for tracking the model's learning performance as will be shown later.\n"
      ]
    },
    {
      "cell_type": "markdown",
      "metadata": {
        "id": "mQ4UST_QELtt"
      },
      "source": [
        "## Evaluate Model's Accuracy on Test Data\n",
        "\n",
        "Now that we've trained the model, we can ask it to make predictions about a test set that it hasn't seen before.\n",
        "This is where things get messy !\n",
        "\n",
        "In this example, the `test_images` array comprises our test dataset. To evaluate accuracy, we can check to see if the model's predictions match the labels from the `test_labels` array.\n",
        "\n",
        "Use the [`evaluate`](https://www.tensorflow.org/api_docs/python/tf/keras/models/Sequential#evaluate) method to evaluate the model on the test dataset!"
      ]
    },
    {
      "cell_type": "code",
      "execution_count": null,
      "metadata": {
        "id": "kWQRMChYELtt",
        "colab": {
          "base_uri": "https://localhost:8080/"
        },
        "outputId": "ca9d4b68-b11f-4375-df50-4304167a1530"
      },
      "outputs": [
        {
          "output_type": "stream",
          "name": "stdout",
          "text": [
            "\u001b[1m313/313\u001b[0m \u001b[32m━━━━━━━━━━━━━━━━━━━━\u001b[0m\u001b[37m\u001b[0m \u001b[1m1s\u001b[0m 1ms/step - accuracy: 0.9672 - loss: 0.0990\n",
            "[0.08575262874364853, 0.972000002861023]\n",
            "Test score: 0.08575262874364853\n",
            "Test accuracy: 0.972000002861023\n"
          ]
        }
      ],
      "source": [
        "score = model.evaluate(X_test, Y_test)\n",
        "print(score)\n",
        "print('Test score:', score[0])\n",
        "print('Test accuracy:', score[1])"
      ]
    },
    {
      "cell_type": "markdown",
      "source": [
        "Question: What do you think of your AI model ? Does it satisfy you ? Why don't you try a **higher learning rate** or using **Adam optimizer** ?\n",
        "\n",
        "Answer: ...."
      ],
      "metadata": {
        "id": "-20_bEvw1DBj"
      }
    },
    {
      "cell_type": "markdown",
      "metadata": {
        "id": "A6YEq13HELtt"
      },
      "source": [
        "### Inspecting the output\n",
        "\n",
        "Even if the accuracy you get satisfies you, it's always a good idea to inspect the output and make sure everything looks sane.\n",
        "Also in case the model's performance is not what you expect, this is the stage where you start digging deep into the model's details to understand more on how it makes decisions.\n",
        "Next we'll look at some examples the model gets right, and some examples it gets wrong.\n",
        "\n",
        "The [`predict`](https://www.tensorflow.org/api_docs/python/tf/keras/models/Sequential#predict) function call generates the output predictions given a set of input samples.\n",
        "Recall that the output of our model is a probability distribution over the 10 digit classes. Thus, the ourput of the predict function describe the model's \"confidence\" that the image corresponds to each of the 10 different digits.\n",
        "\n"
      ]
    },
    {
      "cell_type": "code",
      "execution_count": null,
      "metadata": {
        "collapsed": true,
        "id": "tTayFI4uELtt",
        "colab": {
          "base_uri": "https://localhost:8080/"
        },
        "outputId": "3024c99d-90a4-4b45-efb8-cec66b29945c"
      },
      "outputs": [
        {
          "output_type": "stream",
          "name": "stdout",
          "text": [
            "\u001b[1m1/1\u001b[0m \u001b[32m━━━━━━━━━━━━━━━━━━━━\u001b[0m\u001b[37m\u001b[0m \u001b[1m0s\u001b[0m 98ms/step\n"
          ]
        }
      ],
      "source": [
        "probabilities = model.predict(X_test, steps=1)\n",
        "\n",
        "# Compute the highest probability class\n",
        "# according to the trained classifier for each input example.\n",
        "predicted_labels = np.argmax(probabilities, axis=1)\n",
        "\n",
        "# Check which items we got right / wrong\n",
        "correct_indices = np.nonzero(predicted_labels == y_test)[0]\n",
        "incorrect_indices = np.nonzero(predicted_labels != y_test)[0]"
      ]
    },
    {
      "cell_type": "markdown",
      "source": [
        "Let's print now some of the images it got right and some not."
      ],
      "metadata": {
        "id": "A4XZ_aB1J5g4"
      }
    },
    {
      "cell_type": "code",
      "execution_count": null,
      "metadata": {
        "id": "wFeXu0Y7ELtt",
        "colab": {
          "base_uri": "https://localhost:8080/",
          "height": 267
        },
        "outputId": "4ec451c6-99e3-428e-ff4d-7fe7fd798d4b"
      },
      "outputs": [
        {
          "output_type": "display_data",
          "data": {
            "text/plain": [
              "<Figure size 1000x1000 with 9 Axes>"
            ],
            "image/png": "[encoded data removed]"
          },
          "metadata": {}
        },
        {
          "output_type": "display_data",
          "data": {
            "text/plain": [
              "<Figure size 1000x1000 with 9 Axes>"
            ],
            "image/png": "[encoded data removed]"
          },
          "metadata": {}
        }
      ],
      "source": [
        "plt.figure()\n",
        "for i, correct in enumerate(correct_indices[:9]):\n",
        "    plt.subplot(1,9,i+1)\n",
        "    plt.imshow(X_test[correct].reshape(28,28), cmap='gray', interpolation='none') # Note how we need to reshape the image back to 28 x 28\n",
        "    plt.title(\"Predict {}, Class {}\".format(predicted_labels[correct], y_test[correct]),color = 'green', fontsize=8)\n",
        "\n",
        "plt.tight_layout()\n",
        "\n",
        "plt.figure()\n",
        "for i, incorrect in enumerate(incorrect_indices[:9]):\n",
        "    plt.subplot(1,9,i+1)\n",
        "    plt.imshow(X_test[incorrect].reshape(28,28), cmap='gray', interpolation='none')\n",
        "    plt.title(\"Predict {}, Class {}\".format(predicted_labels[incorrect], y_test[incorrect]), color = 'red',fontsize = 8)\n",
        "\n",
        "plt.tight_layout()"
      ]
    },
    {
      "cell_type": "code",
      "source": [
        "for i, incorrect in enumerate(incorrect_indices[:9]):\n",
        "    print('Label predicted:',predicted_labels[incorrect])\n",
        "    # print('Probabilities:', probabilities[incorrect]) # This prints the probabilities as fractions\n",
        "    print(\" \".join([f\"{p * 100:.2f} \" for p in probabilities[incorrect]])) # This prints the probabilities as percentages"
      ],
      "metadata": {
        "colab": {
          "base_uri": "https://localhost:8080/"
        },
        "id": "ZBQ5OZoTGPEI",
        "outputId": "51d824eb-286f-4e2b-90ae-e63018365247"
      },
      "execution_count": null,
      "outputs": [
        {
          "output_type": "stream",
          "name": "stdout",
          "text": [
            "Label predicted: 6\n",
            "0.00  0.00  0.02  0.00  0.03  42.52  56.98  0.00  0.34  0.10 \n",
            "Label predicted: 8\n",
            "0.00  0.18  2.21  46.10  0.08  0.08  0.01  0.01  51.25  0.08 \n",
            "Label predicted: 9\n",
            "0.02  0.47  41.05  1.93  0.84  7.28  0.01  0.14  0.90  47.37 \n",
            "Label predicted: 8\n",
            "0.09  0.00  0.93  0.64  0.00  0.13  0.00  0.01  63.43  34.77 \n",
            "Label predicted: 2\n",
            "0.01  0.19  58.34  1.06  4.77  0.08  35.51  0.02  0.02  0.00 \n",
            "Label predicted: 0\n",
            "85.53  0.00  0.00  0.00  0.01  0.28  14.07  0.06  0.04  0.00 \n",
            "Label predicted: 7\n",
            "0.00  0.01  0.99  0.53  0.00  0.00  0.00  97.82  0.61  0.04 \n",
            "Label predicted: 3\n",
            "0.00  0.98  0.01  84.33  0.00  14.61  0.03  0.00  0.04  0.00 \n",
            "Label predicted: 7\n",
            "0.00  1.19  0.41  8.15  0.02  0.00  0.00  90.07  0.01  0.15 \n"
          ]
        }
      ]
    },
    {
      "cell_type": "markdown",
      "source": [
        "## Visualize Model Training History in Keras\n"
      ],
      "metadata": {
        "id": "Pl7LY6POKXyZ"
      }
    },
    {
      "cell_type": "code",
      "source": [
        "print(history.history.keys())\n",
        "\n",
        "plt.figure(figsize=(10, 4))\n",
        "# summarize history for accuracy\n",
        "plt.subplot(1, 2, 1)\n",
        "plt.plot(np.arange(1, EPOCHS+1),history.history['accuracy'],'-o')\n",
        "#plt.plot(history.history['val_accuracy']) # uncomment if you use validation data\n",
        "plt.title('model accuracy')\n",
        "plt.ylabel('accuracy')\n",
        "plt.xlabel('epoch')\n",
        "plt.legend(['train', 'test'], loc='upper left')\n",
        "# summarize history for loss\n",
        "plt.subplot(1, 2, 2)\n",
        "plt.plot(np.arange(1, EPOCHS+1),history.history['loss'],'-o')\n",
        "#plt.plot(history.history['val_loss'])  # uncomment if you use validation data\n",
        "plt.title('model loss')\n",
        "plt.ylabel('loss')\n",
        "plt.xlabel('epoch')\n",
        "plt.legend(['train', 'test'], loc='upper left')\n",
        "plt.tight_layout()\n"
      ],
      "metadata": {
        "colab": {
          "base_uri": "https://localhost:8080/",
          "height": 425
        },
        "id": "H3dYohzXKYIh",
        "outputId": "97bd235c-83f7-48b0-a983-2acf03d0cce7"
      },
      "execution_count": null,
      "outputs": [
        {
          "output_type": "stream",
          "name": "stdout",
          "text": [
            "dict_keys(['accuracy', 'loss'])\n"
          ]
        },
        {
          "output_type": "display_data",
          "data": {
            "text/plain": [
              "<Figure size 1000x400 with 2 Axes>"
            ],
            "image/png": "[encoded data removed]"
          },
          "metadata": {}
        }
      ]
    },
    {
      "cell_type": "markdown",
      "metadata": {
        "id": "UsA4G2x-ELtu"
      },
      "source": [
        "# Try experimenting with your Network!\n",
        "\n",
        "Our Neural Network model had a number of adjustable parameters that determine its structure and how it is trained which directly affects its test accuracy and training time.\n",
        "These adjustable parameters are called Hyper-parameters and selecting them is one of the most challenging tasks in Machine Learning in general.\n",
        "For our Fully Connected Network, these parameters include:\n",
        "\n",
        "- Number of hidden layers\n",
        "- Activation function and number of nodes per layer\n",
        "- Solver parameters, e.g. learning rate\n",
        "- Batch size\n",
        "- Number of iterations i.e. epochs\n",
        "- Regularization (not discussed)\n",
        "\n"
      ]
    }
  ],
  "metadata": {
    "kernelspec": {
      "display_name": "Python 3",
      "name": "python3"
    },
    "language_info": {
      "name": "python"
    },
    "colab": {
      "provenance": []
    }
  },
  "nbformat": 4,
  "nbformat_minor": 0
}